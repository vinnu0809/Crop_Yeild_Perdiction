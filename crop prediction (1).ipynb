{
 "cells": [
  {
   "cell_type": "markdown",
   "metadata": {},
   "source": [
    "### Importing Necessary Libraries"
   ]
  },
  {
   "cell_type": "code",
   "execution_count": 2,
   "metadata": {},
   "outputs": [],
   "source": [
    "import numpy as np\n",
    "import pandas as pd\n",
    "import matplotlib.pyplot as plt\n",
    "from sklearn.impute import SimpleImputer\n",
    "from sklearn.preprocessing import StandardScaler\n",
    "from sklearn.preprocessing import LabelEncoder, OneHotEncoder"
   ]
  },
  {
   "cell_type": "markdown",
   "metadata": {},
   "source": [
    "### Loading the Data"
   ]
  },
  {
   "cell_type": "code",
   "execution_count": 3,
   "metadata": {},
   "outputs": [
    {
     "name": "stdout",
     "output_type": "stream",
     "text": [
      "Index(['State_Name', 'District_Name', 'Crop_Year', 'Season', 'Crop', 'Area',\n",
      "       'Production'],\n",
      "      dtype='object')\n"
     ]
    }
   ],
   "source": [
    "dataset = pd.read_csv('apy.csv')\n",
    "print(dataset.keys())"
   ]
  },
  {
   "cell_type": "markdown",
   "metadata": {},
   "source": [
    "### Metadata - List of Crops"
   ]
  },
  {
   "cell_type": "code",
   "execution_count": 4,
   "metadata": {},
   "outputs": [],
   "source": [
    "description = {'Rajmash Kholar': 0, 'Other Fresh Fruits': 1, 'Rubber': 2, 'Niger seed': 3, 'Grapes': 4, 'Ber': 5, \n",
    "               'Water Melon': 6, 'Snak Guard': 7, 'Beet Root': 8, 'Ash Gourd': 9, 'Other Dry Fruit': 10, 'Onion': 11, \n",
    "               'Moth': 12, 'Pineapple': 13, 'Dry ginger': 14, 'Black pepper': 15, 'Ribed Guard': 16, 'Brinjal': 17, \n",
    "               'Citrus Fruit': 18, 'Turmeric': 19, 'other misc. pulses': 20, 'Carrot': 21, 'Khesari': 22, 'Potato': 23, \n",
    "               'Rice': 24, 'Tomato': 25, 'Other  Rabi pulses': 26, 'Pear': 27, 'Kapas': 28, 'Sweet potato': 29, 'Jowar': 30, \n",
    "               'Bajra': 31, 'Paddy': 32, 'Ricebean (nagadal)': 33, 'Castor seed': 34, 'Tea': 35, 'Plums': 36, \n",
    "               'Other Kharif pulses': 37, 'Peas & beans (Pulses)': 38, 'Arcanut (Processed)': 39, 'Pulses total': 40, \n",
    "               'Jute & mesta': 41, 'Moong(Green Gram)': 42, 'Wheat': 43, 'Beans & Mutter(Vegetable)': 44, 'Banana': 45, \n",
    "               'other oilseeds': 46, 'Perilla': 47, 'Urad': 48, 'Pome Fruit': 49, 'Lemon': 50, 'Masoor': 51, 'Korra': 52, \n",
    "               'Barley': 53, 'Rapeseed &Mustard': 54, 'Cowpea(Lobia)': 55, 'Litchi': 56, 'Sannhamp': 57, 'Lentil': 58, \n",
    "               'Maize': 59, 'Bitter Gourd': 60, 'Other Vegetables': 61, 'Arecanut': 62, 'Cucumber': 63, 'Cardamom': 64, \n",
    "               'Orange': 65, 'Apple': 66, 'Papaya': 67, 'Coffee': 68, 'Cotton(lint)': 69, 'Cashewnut Processed': 70, \n",
    "               'Pome Granet': 71, 'Sesamum': 72, 'Yam': 73, 'Peach': 74, 'Sapota': 75, 'Colocosia': 76, 'Jobster': 77, \n",
    "               'Coconut ': 78, 'Atcanut (Raw)': 79, 'Other Citrus Fruit': 80, 'Peas  (vegetable)': 81, 'Groundnut': 82, \n",
    "               'Jute': 83, 'Cabbage': 84, 'Bottle Gourd': 85, 'Gram': 86, 'Soyabean': 87, 'Redish': 88, 'Jack Fruit': 89, \n",
    "               'Small millets': 90, 'Pump Kin': 91, 'Mesta': 92, 'Mango': 93, 'Varagu': 94, 'Ginger': 95, 'Horse-gram': 96, \n",
    "               'Tapioca': 97, 'Dry chillies': 98, 'Cashewnut': 99, 'Samai': 100, 'Safflower': 101, 'Sunflower': 102, \n",
    "               'Guar seed': 103, 'Arhar/Tur': 104, 'Cond-spcs other': 105, 'Cashewnut Raw': 106, 'Turnip': 107, \n",
    "               'Lab-Lab': 108, 'Blackgram': 109, 'Garlic': 110, 'Sugarcane': 111, 'Tobacco': 112, 'Other Cereals & Millets': 113, \n",
    "               'Bean': 114, 'Ragi': 115, 'Cauliflower': 116, 'Coriander': 117, 'Linseed': 118, 'other fibres': 119, \n",
    "               'Total foodgrain': 120, 'Oilseeds total': 121, 'Drum Stick': 122, 'Bhindi': 123}"
   ]
  },
  {
   "cell_type": "markdown",
   "metadata": {},
   "source": [
    "### Data Preprocessing"
   ]
  },
  {
   "cell_type": "code",
   "execution_count": 5,
   "metadata": {
    "scrolled": false
   },
   "outputs": [
    {
     "name": "stdout",
     "output_type": "stream",
     "text": [
      "[[2000 0 62 1254.0 2000.0]\n",
      " [2000 0 37 2.0 1.0]\n",
      " [2000 0 24 102.0 321.0]\n",
      " [2000 1 45 176.0 641.0]\n",
      " [2000 1 99 720.0 165.0]\n",
      " [2000 1 78 18168.0 65100000.0]\n",
      " [2000 1 14 36.0 100.0]\n",
      " [2000 1 111 1.0 2.0]\n",
      " [2000 1 29 5.0 15.0]\n",
      " [2000 1 97 40.0 169.0]]\n"
     ]
    }
   ],
   "source": [
    "def vectorize_season(num):\n",
    "    one_hot = np.zeros(6,dtype=int)\n",
    "    one_hot[int(num)]=1\n",
    "    return one_hot\n",
    "def vectorize_crops(num):\n",
    "    one_hot = np.zeros(124,dtype=int)\n",
    "    one_hot[int(num)]=1\n",
    "    return one_hot\n",
    "    \n",
    "list_of_season = {\"Kharif\":0,\"Whole Year\":1,\"Autumn\":2,\"Rabi\":3,\"Winter\":4,\"Summer\":5}\n",
    "crops = dataset[\"Crop\"].values\n",
    "seasons = dataset['Season'].values\n",
    "data_list = []\n",
    "for i in seasons:\n",
    "    data_list.append(i.strip())\n",
    "seasons = np.array(data_list)\n",
    "#Categorical Encoding seasons\n",
    "for i in list_of_season:\n",
    "    seasons[seasons==i] = int(list_of_season[i])\n",
    "#One-Hot Encoding seasons\n",
    "encoded_seasons = []\n",
    "for i in seasons:\n",
    "    encoded_seasons.append(vectorize_season(i))\n",
    "encoded_seasons = np.array(encoded_seasons)\n",
    "#Categorical Encoding seasons\n",
    "for i in description:\n",
    "    crops[crops==i] = description[i]\n",
    "#One-Hot Encoding seasons\n",
    "encoded_crops = []\n",
    "for i in seasons:\n",
    "    encoded_crops.append(vectorize_crops(i))\n",
    "encoded_crops = np.array(encoded_crops)\n",
    "loaded_data = dataset.iloc[:,2:].values\n",
    "loaded_data[:,1]=seasons\n",
    "loaded_data[:,2]=crops\n",
    "int_list_season=[]\n",
    "for i in loaded_data[:,1]:\n",
    "    int_list_season.append(int(i))\n",
    "loaded_data[:,1] = int_list_season\n",
    "print(loaded_data[:10])\n",
    "from sklearn.model_selection import train_test_split\n",
    "features = loaded_data[:,:-1]\n",
    "target = loaded_data[:,-1]\n",
    "updated_target=[]\n",
    "for i in target:\n",
    "    try:\n",
    "        updated_target.append(int(i))\n",
    "    except:\n",
    "        updated_target.append(600)\n",
    "X_train,X_test,y_train,y_test=train_test_split(features,updated_target,test_size = 0.2)\n",
    "y_train = np.array(y_train)\n",
    "y_test = np.array(y_test)"
   ]
  },
  {
   "cell_type": "markdown",
   "metadata": {},
   "source": [
    "### Training Random Forest Model"
   ]
  },
  {
   "cell_type": "code",
   "execution_count": 6,
   "metadata": {},
   "outputs": [
    {
     "name": "stdout",
     "output_type": "stream",
     "text": [
      "[3.08671667e+02 1.21147619e+01 3.52533333e+01 5.82180000e+02\n",
      " 1.13827000e+03 4.34700000e+02 4.30951812e+06 1.14692300e+04\n",
      " 6.23870000e+02 7.52339683e+03]\n"
     ]
    }
   ],
   "source": [
    "from sklearn.ensemble import RandomForestRegressor as rfr\n",
    "reg  = rfr(100)\n",
    "reg.fit(X_train,y_train)\n",
    "r_prediction = reg.predict(X_test)\n",
    "print(r_prediction[:10])"
   ]
  },
  {
   "cell_type": "markdown",
   "metadata": {},
   "source": [
    "### Evaluating the RandomForrestModel"
   ]
  },
  {
   "cell_type": "code",
   "execution_count": 7,
   "metadata": {},
   "outputs": [],
   "source": [
    "from sklearn.metrics import mean_squared_error\n",
    "random_for_error = mean_squared_error(y_test,r_prediction)"
   ]
  },
  {
   "cell_type": "markdown",
   "metadata": {},
   "source": [
    "### Preprocessing for Deep learning"
   ]
  },
  {
   "cell_type": "code",
   "execution_count": 8,
   "metadata": {},
   "outputs": [
    {
     "name": "stdout",
     "output_type": "stream",
     "text": [
      "[[4055]\n",
      " [  11]\n",
      " [4200]\n",
      " [  14]\n",
      " [  88]\n",
      " [1820]\n",
      " [  23]\n",
      " [ 114]\n",
      " [ 927]\n",
      " [ 358]]\n",
      "49219\n",
      "49219\n"
     ]
    }
   ],
   "source": [
    "X_train,X_test,y_train,y_test=train_test_split(features,updated_target,test_size = 0.2)\n",
    "y_train = np.array(y_train)\n",
    "y_test = np.array(y_test)\n",
    "y_train  = y_train.reshape(-1,1)\n",
    "print(y_train[:10])\n",
    "y_test  = y_test.reshape(-1,1)\n",
    "\n",
    "print(len(y_test))\n",
    "print(len(X_test))"
   ]
  },
  {
   "cell_type": "markdown",
   "metadata": {},
   "source": [
    "### Building Neural Network"
   ]
  },
  {
   "cell_type": "code",
   "execution_count": 9,
   "metadata": {},
   "outputs": [
    {
     "name": "stderr",
     "output_type": "stream",
     "text": [
      "C:\\Users\\Admin\\AppData\\Roaming\\Python\\Python36\\site-packages\\tensorflow\\python\\framework\\dtypes.py:523: FutureWarning: Passing (type, 1) or '1type' as a synonym of type is deprecated; in a future version of numpy, it will be understood as (type, (1,)) / '(1,)type'.\n",
      "  _np_qint8 = np.dtype([(\"qint8\", np.int8, 1)])\n",
      "C:\\Users\\Admin\\AppData\\Roaming\\Python\\Python36\\site-packages\\tensorflow\\python\\framework\\dtypes.py:524: FutureWarning: Passing (type, 1) or '1type' as a synonym of type is deprecated; in a future version of numpy, it will be understood as (type, (1,)) / '(1,)type'.\n",
      "  _np_quint8 = np.dtype([(\"quint8\", np.uint8, 1)])\n",
      "C:\\Users\\Admin\\AppData\\Roaming\\Python\\Python36\\site-packages\\tensorflow\\python\\framework\\dtypes.py:525: FutureWarning: Passing (type, 1) or '1type' as a synonym of type is deprecated; in a future version of numpy, it will be understood as (type, (1,)) / '(1,)type'.\n",
      "  _np_qint16 = np.dtype([(\"qint16\", np.int16, 1)])\n",
      "C:\\Users\\Admin\\AppData\\Roaming\\Python\\Python36\\site-packages\\tensorflow\\python\\framework\\dtypes.py:526: FutureWarning: Passing (type, 1) or '1type' as a synonym of type is deprecated; in a future version of numpy, it will be understood as (type, (1,)) / '(1,)type'.\n",
      "  _np_quint16 = np.dtype([(\"quint16\", np.uint16, 1)])\n",
      "C:\\Users\\Admin\\AppData\\Roaming\\Python\\Python36\\site-packages\\tensorflow\\python\\framework\\dtypes.py:527: FutureWarning: Passing (type, 1) or '1type' as a synonym of type is deprecated; in a future version of numpy, it will be understood as (type, (1,)) / '(1,)type'.\n",
      "  _np_qint32 = np.dtype([(\"qint32\", np.int32, 1)])\n",
      "C:\\Users\\Admin\\AppData\\Roaming\\Python\\Python36\\site-packages\\tensorflow\\python\\framework\\dtypes.py:532: FutureWarning: Passing (type, 1) or '1type' as a synonym of type is deprecated; in a future version of numpy, it will be understood as (type, (1,)) / '(1,)type'.\n",
      "  np_resource = np.dtype([(\"resource\", np.ubyte, 1)])\n"
     ]
    },
    {
     "name": "stdout",
     "output_type": "stream",
     "text": [
      "Train on 137810 samples, validate on 59062 samples\n",
      "Epoch 1/15\n",
      "137810/137810 [==============================] - 17s 127us/step - loss: 319815909235641.2500 - mean_absolute_error: 672384.6831 - mean_squared_error: 319815909235641.2500 - val_loss: 212325724560915.7500 - val_mean_absolute_error: 539422.3104 - val_mean_squared_error: 212325724560915.7500\n",
      "Epoch 2/15\n",
      "137810/137810 [==============================] - 12s 85us/step - loss: 319697410813699.5625 - mean_absolute_error: 728125.5442 - mean_squared_error: 319697410813699.5625 - val_loss: 212280432567185.5000 - val_mean_absolute_error: 593652.4498 - val_mean_squared_error: 212280432567185.5000\n",
      "Epoch 3/15\n",
      "137810/137810 [==============================] - 12s 87us/step - loss: 319622860750202.1250 - mean_absolute_error: 773132.1903 - mean_squared_error: 319622860750202.1250 - val_loss: 212236388961494.6875 - val_mean_absolute_error: 635470.6988 - val_mean_squared_error: 212236388961494.6875\n",
      "Epoch 4/15\n",
      "137810/137810 [==============================] - 12s 87us/step - loss: 319594856496934.3750 - mean_absolute_error: 774841.4712 - mean_squared_error: 319594856496934.3750 - val_loss: 212228316320370.5000 - val_mean_absolute_error: 596498.1983 - val_mean_squared_error: 212228316320370.5000\n",
      "Epoch 5/15\n",
      "137810/137810 [==============================] - 12s 87us/step - loss: 319476125909655.1875 - mean_absolute_error: 776869.9862 - mean_squared_error: 319476125909655.1875 - val_loss: 212167528802327.9375 - val_mean_absolute_error: 613947.0236 - val_mean_squared_error: 212167528802327.9375\n",
      "Epoch 6/15\n",
      "137810/137810 [==============================] - 12s 86us/step - loss: 319465357142475.5625 - mean_absolute_error: 785114.2813 - mean_squared_error: 319465357142475.5625 - val_loss: 212284698456583.4375 - val_mean_absolute_error: 534543.3063 - val_mean_squared_error: 212284698456583.4375\n",
      "Epoch 7/15\n",
      "137810/137810 [==============================] - 17s 123us/step - loss: 319352991333581.5625 - mean_absolute_error: 777609.4464 - mean_squared_error: 319352991333581.5625 - val_loss: 212060440048819.5000 - val_mean_absolute_error: 611419.6042 - val_mean_squared_error: 212060440048819.5000\n",
      "Epoch 8/15\n",
      "137810/137810 [==============================] - 23s 169us/step - loss: 319251230825442.0000 - mean_absolute_error: 787572.0628 - mean_squared_error: 319251230825442.0000 - val_loss: 212118266527972.0312 - val_mean_absolute_error: 564991.0575 - val_mean_squared_error: 212118266527972.0312\n",
      "Epoch 9/15\n",
      "137810/137810 [==============================] - 20s 149us/step - loss: 319372777641531.6875 - mean_absolute_error: 784949.2747 - mean_squared_error: 319372777641531.6875 - val_loss: 212053725381286.5312 - val_mean_absolute_error: 739862.6083 - val_mean_squared_error: 212053725381286.5312\n",
      "Epoch 10/15\n",
      "137810/137810 [==============================] - 19s 140us/step - loss: 319158560428507.9375 - mean_absolute_error: 802810.6642 - mean_squared_error: 319158560428507.9375 - val_loss: 211977802112820.6562 - val_mean_absolute_error: 691058.2243 - val_mean_squared_error: 211977802112820.6562\n",
      "Epoch 11/15\n",
      "137810/137810 [==============================] - 19s 141us/step - loss: 319213836443346.0000 - mean_absolute_error: 808416.9542 - mean_squared_error: 319213836443346.0000 - val_loss: 212068977514539.7500 - val_mean_absolute_error: 589717.6410 - val_mean_squared_error: 212068977514539.7500\n",
      "Epoch 12/15\n",
      "137810/137810 [==============================] - 19s 139us/step - loss: 319204403364773.7500 - mean_absolute_error: 814690.8648 - mean_squared_error: 319204403364773.7500 - val_loss: 211985390473600.3438 - val_mean_absolute_error: 642199.5046 - val_mean_squared_error: 211985390473600.3438\n",
      "Epoch 13/15\n",
      "137810/137810 [==============================] - 19s 139us/step - loss: 319239618292273.7500 - mean_absolute_error: 810617.5441 - mean_squared_error: 319239618292273.7500 - val_loss: 212285155387107.8750 - val_mean_absolute_error: 532972.2333 - val_mean_squared_error: 212285155387107.8750\n",
      "Epoch 14/15\n",
      "137810/137810 [==============================] - 19s 140us/step - loss: 319324140890871.3125 - mean_absolute_error: 821644.0597 - mean_squared_error: 319324140890871.3125 - val_loss: 212433475287188.1875 - val_mean_absolute_error: 532294.6803 - val_mean_squared_error: 212433475287188.1875\n",
      "Epoch 15/15\n",
      "137810/137810 [==============================] - 19s 139us/step - loss: 319204825202364.3750 - mean_absolute_error: 808461.7294 - mean_squared_error: 319204825202364.3750 - val_loss: 212026607465871.5000 - val_mean_absolute_error: 696415.2212 - val_mean_squared_error: 212026607465871.5000\n"
     ]
    }
   ],
   "source": [
    "import tensorflow as tf\n",
    "from tensorflow.keras import layers\n",
    "def build_model():\n",
    "    model = tf.keras.Sequential([\n",
    "    layers.Flatten(),\n",
    "    layers.Dense(150, activation=tf.nn.relu),\n",
    "    layers.Dense(150, activation=tf.nn.relu),\n",
    "    layers.Dense(1)\n",
    "  ])\n",
    "\n",
    "    optimizer = tf.keras.optimizers.RMSprop(0.001)\n",
    "\n",
    "    model.compile(loss='mse',\n",
    "                optimizer=optimizer,\n",
    "                metrics=['mae', 'mse'])\n",
    "    return model\n",
    "model = build_model()\n",
    "history = model.fit(X_train, y_train, epochs=15,validation_split=0.3)"
   ]
  },
  {
   "cell_type": "markdown",
   "metadata": {},
   "source": [
    "### Evaluation of the Deep Learning Model"
   ]
  },
  {
   "cell_type": "code",
   "execution_count": 10,
   "metadata": {},
   "outputs": [
    {
     "name": "stdout",
     "output_type": "stream",
     "text": [
      "49219/49219 [==============================] - 2s 51us/step\n",
      "mse 282833122199575.2\n",
      "loss 282833122199575.2\n",
      "mae 853814.191967279\n"
     ]
    }
   ],
   "source": [
    "loss, mae, mse = model.evaluate(X_test, y_test)\n",
    "print(\"mse\",mse)\n",
    "print(\"loss\",loss)\n",
    "print(\"mae\",mae)"
   ]
  },
  {
   "cell_type": "markdown",
   "metadata": {},
   "source": [
    "### Comparision of Deep learning model and Random Forest Regressor"
   ]
  },
  {
   "cell_type": "code",
   "execution_count": 11,
   "metadata": {},
   "outputs": [
    {
     "data": {
      "image/png": "[encoded data removed]",
      "text/plain": [
       "<Figure size 432x288 with 1 Axes>"
      ]
     },
     "metadata": {
      "needs_background": "light"
     },
     "output_type": "display_data"
    }
   ],
   "source": [
    "from matplotlib import pyplot as plt\n",
    "x = [\"Random_Forest\",\"Deep_learning\"]\n",
    "y = [random_for_error,mse]\n",
    "x2 = [6,9,11]\n",
    "y2 = [6,15,7]\n",
    "plt.bar(x, y, align='center')\n",
    "plt.bar(x2, y2, color='g', align='center')\n",
    "plt.title('Random Forrest vs Deep learning Model')\n",
    "plt.xlim(-1,2)\n",
    "plt.ylabel('Error')\n",
    "plt.xlabel('Model')\n",
    "plt.show()\n"
   ]
  },
  {
   "cell_type": "markdown",
   "metadata": {},
   "source": [
    "### Fertilizer prediction and Evaluation"
   ]
  },
  {
   "cell_type": "code",
   "execution_count": 15,
   "metadata": {},
   "outputs": [],
   "source": [
    "import pandas as pd\n",
    "import numpy as np\n",
    "import matplotlib.pyplot as plt\n",
    "from IPython.core.interactiveshell import InteractiveShell\n",
    "InteractiveShell.ast_node_interactivity = \"all\"\n",
    "data = pd.read_csv(\"fer.csv\")\n",
    "data.head()\n",
    "train_data = data.values[:,0:3]\n",
    "train_target = data.values[:,3:]"
   ]
  },
  {
   "cell_type": "code",
   "execution_count": 16,
   "metadata": {},
   "outputs": [
    {
     "name": "stdout",
     "output_type": "stream",
     "text": [
      "Train on 302 samples, validate on 130 samples\n",
      "Epoch 1/15\n",
      "302/302 [==============================] - 1s 3ms/step - loss: 3202.7156 - mean_absolute_error: 50.3130 - mean_squared_error: 3202.7156 - val_loss: 2713.6091 - val_mean_absolute_error: 45.9963 - val_mean_squared_error: 2713.6091\n",
      "Epoch 2/15\n",
      "302/302 [==============================] - 0s 202us/step - loss: 2517.2306 - mean_absolute_error: 43.7696 - mean_squared_error: 2517.2306 - val_loss: 1961.4760 - val_mean_absolute_error: 37.9789 - val_mean_squared_error: 1961.4760\n",
      "Epoch 3/15\n",
      "302/302 [==============================] - 0s 162us/step - loss: 1720.0222 - mean_absolute_error: 34.5394 - mean_squared_error: 1720.0222 - val_loss: 1137.4977 - val_mean_absolute_error: 26.8184 - val_mean_squared_error: 1137.4977\n",
      "Epoch 4/15\n",
      "302/302 [==============================] - 0s 179us/step - loss: 964.5002 - mean_absolute_error: 23.9631 - mean_squared_error: 964.5002 - val_loss: 543.7275 - val_mean_absolute_error: 17.5680 - val_mean_squared_error: 543.7275\n",
      "Epoch 5/15\n",
      "302/302 [==============================] - 0s 192us/step - loss: 493.5909 - mean_absolute_error: 16.7588 - mean_squared_error: 493.5909 - val_loss: 279.0265 - val_mean_absolute_error: 12.9403 - val_mean_squared_error: 279.0265\n",
      "Epoch 6/15\n",
      "302/302 [==============================] - 0s 185us/step - loss: 306.3046 - mean_absolute_error: 13.5679 - mean_squared_error: 306.3046 - val_loss: 199.3871 - val_mean_absolute_error: 11.4152 - val_mean_squared_error: 199.3871\n",
      "Epoch 7/15\n",
      "302/302 [==============================] - 0s 192us/step - loss: 242.6484 - mean_absolute_error: 12.2649 - mean_squared_error: 242.6484 - val_loss: 177.3514 - val_mean_absolute_error: 10.7764 - val_mean_squared_error: 177.3514\n",
      "Epoch 8/15\n",
      "302/302 [==============================] - 0s 166us/step - loss: 215.7890 - mean_absolute_error: 11.6819 - mean_squared_error: 215.7890 - val_loss: 164.6353 - val_mean_absolute_error: 10.4089 - val_mean_squared_error: 164.6353\n",
      "Epoch 9/15\n",
      "302/302 [==============================] - 0s 166us/step - loss: 193.1322 - mean_absolute_error: 11.1464 - mean_squared_error: 193.1322 - val_loss: 151.7001 - val_mean_absolute_error: 10.0082 - val_mean_squared_error: 151.7001\n",
      "Epoch 10/15\n",
      "302/302 [==============================] - 0s 172us/step - loss: 172.0816 - mean_absolute_error: 10.5286 - mean_squared_error: 172.0816 - val_loss: 130.9418 - val_mean_absolute_error: 9.2907 - val_mean_squared_error: 130.9418\n",
      "Epoch 11/15\n",
      "302/302 [==============================] - 0s 192us/step - loss: 152.5233 - mean_absolute_error: 9.9300 - mean_squared_error: 152.5233 - val_loss: 120.5781 - val_mean_absolute_error: 8.8313 - val_mean_squared_error: 120.5781\n",
      "Epoch 12/15\n",
      "302/302 [==============================] - 0s 176us/step - loss: 138.5235 - mean_absolute_error: 9.4370 - mean_squared_error: 138.5235 - val_loss: 107.3328 - val_mean_absolute_error: 8.3131 - val_mean_squared_error: 107.3328\n",
      "Epoch 13/15\n",
      "302/302 [==============================] - 0s 176us/step - loss: 125.3270 - mean_absolute_error: 8.9247 - mean_squared_error: 125.3270 - val_loss: 96.4549 - val_mean_absolute_error: 7.7180 - val_mean_squared_error: 96.4549\n",
      "Epoch 14/15\n",
      "302/302 [==============================] - 0s 176us/step - loss: 114.0527 - mean_absolute_error: 8.4708 - mean_squared_error: 114.0527 - val_loss: 92.7102 - val_mean_absolute_error: 7.5200 - val_mean_squared_error: 92.7102\n",
      "Epoch 15/15\n",
      "302/302 [==============================] - 0s 215us/step - loss: 105.0933 - mean_absolute_error: 8.0507 - mean_squared_error: 105.0933 - val_loss: 83.9154 - val_mean_absolute_error: 7.0752 - val_mean_squared_error: 83.9154\n"
     ]
    }
   ],
   "source": [
    "import tensorflow as tf\n",
    "from tensorflow.keras import layers\n",
    "def build_model():\n",
    "    model = tf.keras.Sequential([\n",
    "    layers.Flatten(),\n",
    "    layers.Dense(150, activation=tf.nn.relu),\n",
    "    layers.Dense(150, activation=tf.nn.relu),\n",
    "    layers.Dense(3)\n",
    "  ])\n",
    "\n",
    "    optimizer = tf.keras.optimizers.RMSprop(0.001)\n",
    "\n",
    "    model.compile(loss='mse',\n",
    "                optimizer=optimizer,\n",
    "                metrics=['mae', 'mse'])\n",
    "    return model\n",
    "model = build_model()\n",
    "history = model.fit(train_data, train_target, epochs=15,validation_split=0.3)"
   ]
  },
  {
   "cell_type": "markdown",
   "metadata": {},
   "source": [
    "### Prediction based on User Input"
   ]
  },
  {
   "cell_type": "code",
   "execution_count": 14,
   "metadata": {},
   "outputs": [
    {
     "name": "stdout",
     "output_type": "stream",
     "text": [
      "production: 125492.81\n"
     ]
    }
   ],
   "source": [
    "def user_input_prediction(state_name,district_name,crop_year,season,crop,area):\n",
    "    season = list_of_season[season]\n",
    "    crop = description[crop]\n",
    "    input_data = np.array([[crop_year,season,crop,area]])\n",
    "    return model.predict(input_data)\n",
    "print(\"production:\",user_input_prediction(\"Andra Pradesh\",\"CHITTOOR\",2012,\"Kharif\",\"Grapes\",3473)[0][0])"
   ]
  },
  {
   "cell_type": "markdown",
   "metadata": {},
   "source": [
    "Fertilizer predection"
   ]
  },
  {
   "cell_type": "code",
   "execution_count": 17,
   "metadata": {},
   "outputs": [
    {
     "name": "stdout",
     "output_type": "stream",
     "text": [
      "enter nitrogen1\n",
      "enter posporus3\n",
      "enter pottassium5\n",
      "Amount of Nitrozen Fertilizer 42.43478\n",
      "Amount of Phosphorous 29.28251\n",
      "Amount of pottassium 33.86955\n"
     ]
    }
   ],
   "source": [
    "nitrogen = int(input(\"enter nitrogen\"))\n",
    "posporus = int(input(\"enter posporus\"))\n",
    "pottassium = int(input(\"enter pottassium\"))\n",
    "data = np.array([[nitrogen,posporus,pottassium]])\n",
    "pred = model.predict(data)\n",
    "print(\"Amount of Nitrozen Fertilizer\",pred[0][0])\n",
    "print(\"Amount of Phosphorous\",pred[0][1])\n",
    "print(\"Amount of pottassium\",pred[0][2])"
   ]
  }
 ],
 "metadata": {
  "kernelspec": {
   "display_name": "Python 3",
   "language": "python",
   "name": "python3"
  },
  "language_info": {
   "codemirror_mode": {
    "name": "ipython",
    "version": 3
   },
   "file_extension": ".py",
   "mimetype": "text/x-python",
   "name": "python",
   "nbconvert_exporter": "python",
   "pygments_lexer": "ipython3",
   "version": "3.8.5"
  }
 },
 "nbformat": 4,
 "nbformat_minor": 2
}
